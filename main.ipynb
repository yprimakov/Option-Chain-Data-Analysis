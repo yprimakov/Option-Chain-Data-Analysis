{
 "cells": [
  {
   "cell_type": "code",
   "execution_count": null,
   "metadata": {},
   "outputs": [],
   "source": [
    "import os\n",
    "\n",
    "from tradier_python import TradierAPI\n",
    "\n",
    "# config\n",
    "TRADIER_TOKEN = ''\n",
    "TRADIER_ACCOUNT_ID = ''\n",
    "\n",
    "ticker = ''\n",
    "\n",
    "token = TRADIER_TOKEN\n",
    "account_id = TRADIER_ACCOUNT_ID\n",
    "t = TradierAPI(token=token, default_account_id=account_id)\n",
    "\n",
    "profile = t.get_profile()\n",
    "profile"
   ]
  }
 ],
 "metadata": {
  "kernelspec": {
   "display_name": "Python 3",
   "language": "python",
   "name": "python3"
  },
  "language_info": {
   "name": "python",
   "version": "3.11.0"
  },
  "orig_nbformat": 4,
  "vscode": {
   "interpreter": {
    "hash": "c261aea317cc0286b3b3261fbba9abdec21eaa57589985bb7a274bf54d6cc0a7"
   }
  }
 },
 "nbformat": 4,
 "nbformat_minor": 2
}
